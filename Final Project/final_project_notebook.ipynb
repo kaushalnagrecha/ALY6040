{
  "cells": [
    {
      "cell_type": "markdown",
      "metadata": {
        "id": "_gOZj5vwze2H"
      },
      "source": [
        "# ALY6040 Final Project"
      ]
    },
    {
      "cell_type": "markdown",
      "metadata": {
        "id": "4EClgIrhze2I"
      },
      "source": [
        "## Exploratory Data Analysis"
      ]
    },
    {
      "cell_type": "code",
      "execution_count": 1,
      "metadata": {
        "id": "URVC9uaxze2I"
      },
      "outputs": [],
      "source": [
        "import pandas as pd\n",
        "import numpy as np\n",
        "from plotly import express as px\n",
        "from plotly import figure_factory as ff\n",
        "from plotly import graph_objects as go"
      ]
    },
    {
      "cell_type": "code",
      "execution_count": 2,
      "metadata": {
        "id": "x7YOdvxsze2I"
      },
      "outputs": [],
      "source": [
        "# Load the dataset\n",
        "df = pd.read_csv(\"final_project_dataset.csv\", low_memory=False)"
      ]
    },
    {
      "cell_type": "markdown",
      "metadata": {
        "id": "F2pj4DPqze2I"
      },
      "source": [
        "### 1. Initial Exploration"
      ]
    },
    {
      "cell_type": "code",
      "execution_count": 3,
      "metadata": {
        "colab": {
          "base_uri": "https://localhost:8080/"
        },
        "id": "ig0zfje-ze2J",
        "outputId": "7d5e22d9-aa19-4053-8841-754e0f27b8e7"
      },
      "outputs": [
        {
          "output_type": "stream",
          "name": "stdout",
          "text": [
            "Dataset Info:\n",
            "<class 'pandas.core.frame.DataFrame'>\n",
            "RangeIndex: 182242 entries, 0 to 182241\n",
            "Data columns (total 65 columns):\n",
            " #   Column               Non-Null Count   Dtype  \n",
            "---  ------               --------------   -----  \n",
            " 0   PID                  182242 non-null  int64  \n",
            " 1   CM_ID                93291 non-null   float64\n",
            " 2   GIS_ID               182242 non-null  int64  \n",
            " 3   ST_NUM               172879 non-null  float64\n",
            " 4   ST_NAME              182242 non-null  object \n",
            " 5   UNIT_NUM             82613 non-null   object \n",
            " 6   CITY                 182239 non-null  object \n",
            " 7   ZIP_CODE             182239 non-null  float64\n",
            " 8   BLDG_SEQ             182242 non-null  int64  \n",
            " 9   NUM_BLDGS            182242 non-null  int64  \n",
            " 10  LUC                  182242 non-null  int64  \n",
            " 11  LU                   182242 non-null  object \n",
            " 12  LU_DESC              182242 non-null  object \n",
            " 13  BLDG_TYPE            179626 non-null  object \n",
            " 14  OWN_OCC              182242 non-null  object \n",
            " 15  OWNER                182242 non-null  object \n",
            " 16  MAIL_ADDRESSEE       34412 non-null   object \n",
            " 17  MAIL_STREET_ADDRESS  182238 non-null  object \n",
            " 18  MAIL_CITY            182231 non-null  object \n",
            " 19  MAIL_STATE           181923 non-null  object \n",
            " 20  MAIL_ZIP_CODE        182181 non-null  object \n",
            " 21  RES_FLOOR            148450 non-null  float64\n",
            " 22  CD_FLOOR             71972 non-null   float64\n",
            " 23  RES_UNITS            10768 non-null   float64\n",
            " 24  COM_UNITS            10768 non-null   float64\n",
            " 25  RC_UNITS             10768 non-null   float64\n",
            " 26  LAND_SF              174240 non-null  object \n",
            " 27  GROSS_AREA           148394 non-null  float64\n",
            " 28  LIVING_AREA          148101 non-null  float64\n",
            " 29  LAND_VALUE           182242 non-null  object \n",
            " 30  BLDG_VALUE           182242 non-null  object \n",
            " 31  SFYI_VALUE           182242 non-null  int64  \n",
            " 32  TOTAL_VALUE          182242 non-null  object \n",
            " 33   GROSS_TAX           182242 non-null  object \n",
            " 34  YR_BUILT             159456 non-null  float64\n",
            " 35  YR_REMODEL           86718 non-null   float64\n",
            " 36  STRUCTURE_CLASS      17406 non-null   object \n",
            " 37  ROOF_STRUCTURE       146017 non-null  object \n",
            " 38  ROOF_COVER           146023 non-null  object \n",
            " 39  INT_WALL             133493 non-null  object \n",
            " 40  EXT_FNISHED          159358 non-null  object \n",
            " 41  INT_COND             133496 non-null  object \n",
            " 42  EXT_COND             146084 non-null  object \n",
            " 43  OVERALL_COND         172655 non-null  object \n",
            " 44  BED_RMS              133477 non-null  float64\n",
            " 45  FULL_BTH             170598 non-null  float64\n",
            " 46  HLF_BTH              170733 non-null  float64\n",
            " 47  KITCHENS             170524 non-null  float64\n",
            " 48  TT_RMS               133413 non-null  float64\n",
            " 49  BDRM_COND            71742 non-null   object \n",
            " 50  BTHRM_STYLE1         132694 non-null  object \n",
            " 51  BTHRM_STYLE2         85165 non-null   object \n",
            " 52  BTHRM_STYLE3         36502 non-null   object \n",
            " 53  KITCHEN_TYPE         132687 non-null  object \n",
            " 54  KITCHEN_STYLE1       132693 non-null  object \n",
            " 55  KITCHEN_STYLE2       31248 non-null   object \n",
            " 56  KITCHEN_STYLE3       13745 non-null   object \n",
            " 57  HEAT_TYPE            134000 non-null  object \n",
            " 58  HEAT_SYSTEM          72229 non-null   object \n",
            " 59  AC_TYPE              133970 non-null  object \n",
            " 60  FIREPLACES           132708 non-null  float64\n",
            " 61  ORIENTATION          71974 non-null   object \n",
            " 62  NUM_PARKING          133619 non-null  float64\n",
            " 63  PROP_VIEW            135289 non-null  object \n",
            " 64  CORNER_UNIT          71971 non-null   object \n",
            "dtypes: float64(19), int64(6), object(40)\n",
            "memory usage: 90.4+ MB\n",
            "None\n"
          ]
        }
      ],
      "source": [
        "print(\"Dataset Info:\")\n",
        "print(df.info())"
      ]
    },
    {
      "cell_type": "code",
      "execution_count": 4,
      "metadata": {
        "colab": {
          "base_uri": "https://localhost:8080/"
        },
        "id": "4_NH35jXze2J",
        "outputId": "d23d8268-960c-4b72-b832-c2385a6e0a0d"
      },
      "outputs": [
        {
          "output_type": "stream",
          "name": "stdout",
          "text": [
            "Summary Statistics:\n",
            "                PID         CM_ID        GIS_ID         ST_NUM       ZIP_CODE  \\\n",
            "count  1.822420e+05  9.329100e+04  1.822420e+05  172879.000000  182239.000000   \n",
            "mean   1.140093e+09  9.175609e+08  1.140094e+09     226.431695    2129.867937   \n",
            "std    7.091114e+08  6.896463e+08  7.091123e+08     475.704566      30.721915   \n",
            "min    1.000010e+08  1.000180e+08  1.000010e+08       0.000000    2026.000000   \n",
            "25%    5.015880e+08  3.069060e+08  5.015882e+08      24.000000    2119.000000   \n",
            "50%    1.102618e+09  6.026424e+08  1.102618e+09      68.000000    2127.000000   \n",
            "75%    1.810508e+09  1.602331e+09  1.810508e+09     212.000000    2131.000000   \n",
            "max    2.205670e+09  2.205665e+09  2.205670e+09    5341.000000    2467.000000   \n",
            "\n",
            "       BLDG_SEQ      NUM_BLDGS            LUC      RES_FLOOR      CD_FLOOR  \\\n",
            "count  182242.0  182242.000000  182242.000000  148450.000000  71972.000000   \n",
            "mean        1.0       1.000077     202.581644       1.880354      3.520313   \n",
            "std         0.0       0.008764     266.131091       1.129042      5.256928   \n",
            "min         1.0       1.000000      13.000000       0.000000      0.000000   \n",
            "25%         1.0       1.000000     102.000000       1.000000      1.000000   \n",
            "50%         1.0       1.000000     102.000000       2.000000      2.000000   \n",
            "75%         1.0       1.000000     108.000000       2.500000      4.000000   \n",
            "max         1.0       2.000000     995.000000      62.000000     60.000000   \n",
            "\n",
            "       ...  SFYI_VALUE       YR_BUILT    YR_REMODEL        BED_RMS  \\\n",
            "count  ...    182242.0  159456.000000  86718.000000  133477.000000   \n",
            "mean   ...         0.0    1933.215665   2002.011647       3.148438   \n",
            "std    ...         0.0      63.981908     65.386476       2.102219   \n",
            "min    ...         0.0    1700.000000      0.000000       0.000000   \n",
            "25%    ...         0.0    1900.000000   1987.000000       2.000000   \n",
            "50%    ...         0.0    1920.000000   2005.000000       3.000000   \n",
            "75%    ...         0.0    1965.000000   2016.000000       4.000000   \n",
            "max    ...         0.0   20198.000000  20220.000000      21.000000   \n",
            "\n",
            "            FULL_BTH        HLF_BTH       KITCHENS         TT_RMS  \\\n",
            "count  170598.000000  170733.000000  170524.000000  133413.000000   \n",
            "mean        1.359758       0.221925       1.051881       6.940583   \n",
            "std         1.060568       0.460028       0.805374       4.009798   \n",
            "min         0.000000       0.000000       0.000000       1.000000   \n",
            "25%         1.000000       0.000000       1.000000       4.000000   \n",
            "50%         1.000000       0.000000       1.000000       6.000000   \n",
            "75%         2.000000       0.000000       1.000000       9.000000   \n",
            "max        21.000000       7.000000       5.000000      20.000000   \n",
            "\n",
            "          FIREPLACES    NUM_PARKING  \n",
            "count  132708.000000  133619.000000  \n",
            "mean        0.344162       1.328943  \n",
            "std         0.686004       2.411295  \n",
            "min         0.000000       0.000000  \n",
            "25%         0.000000       0.000000  \n",
            "50%         0.000000       1.000000  \n",
            "75%         1.000000       2.000000  \n",
            "max        12.000000     210.000000  \n",
            "\n",
            "[8 rows x 25 columns]\n"
          ]
        }
      ],
      "source": [
        "print(\"Summary Statistics:\")\n",
        "print(df.describe())"
      ]
    },
    {
      "cell_type": "code",
      "execution_count": 5,
      "metadata": {
        "colab": {
          "base_uri": "https://localhost:8080/"
        },
        "id": "tUEoeOU3ze2J",
        "outputId": "13a808ab-9f42-4be1-acdc-b979aeef381f"
      },
      "outputs": [
        {
          "output_type": "stream",
          "name": "stdout",
          "text": [
            "Missing Values\n",
            "RES_UNITS          94.091373\n",
            "COM_UNITS          94.091373\n",
            "RC_UNITS           94.091373\n",
            "KITCHEN_STYLE3     92.457831\n",
            "STRUCTURE_CLASS    90.448963\n",
            "KITCHEN_STYLE2     82.853568\n",
            "MAIL_ADDRESSEE     81.117415\n",
            "BTHRM_STYLE3       79.970589\n",
            "BDRM_COND          60.633663\n",
            "CORNER_UNIT        60.508006\n",
            "CD_FLOOR           60.507457\n",
            "ORIENTATION        60.506360\n",
            "HEAT_SYSTEM        60.366436\n",
            "UNIT_NUM           54.668518\n",
            "BTHRM_STYLE2       53.268182\n",
            "YR_REMODEL         52.416018\n",
            "CM_ID              48.809276\n",
            "KITCHEN_TYPE       27.191866\n",
            "KITCHEN_STYLE1     27.188573\n",
            "BTHRM_STYLE1       27.188025\n",
            "dtype: float64\n"
          ]
        }
      ],
      "source": [
        "print(\"Missing Values\")\n",
        "print((((df.isna().sum()) * 100 ) / df.shape[0]).sort_values(ascending=False).head(20))"
      ]
    },
    {
      "cell_type": "markdown",
      "metadata": {
        "id": "62tuXsH_ze2J"
      },
      "source": [
        "### 2. Handle Missing Values"
      ]
    },
    {
      "cell_type": "code",
      "execution_count": 6,
      "metadata": {
        "id": "fKsQEp5pze2J"
      },
      "outputs": [],
      "source": [
        "# Clean column names\n",
        "df.columns = df.columns.str.strip().str.lower()"
      ]
    },
    {
      "cell_type": "code",
      "execution_count": 7,
      "metadata": {
        "id": "6BE7YqLgze2K"
      },
      "outputs": [],
      "source": [
        "# Convert numeric columns\n",
        "numeric_columns = [\"land_sf\", \"land_value\", \"bldg_value\", \"total_value\", \"sfyi_value\", \"yr_built\", \"yr_remodel\"]\n",
        "for col in numeric_columns:\n",
        "    df[col] = df[col].astype(str).str.replace(r\"[^0-9.]\", \"\", regex=True)\n",
        "    df[col] = pd.to_numeric(df[col], errors=\"coerce\")"
      ]
    },
    {
      "cell_type": "code",
      "execution_count": 8,
      "metadata": {
        "id": "O00Moyz0ze2K"
      },
      "outputs": [],
      "source": [
        "# Drop high-missing columns\n",
        "drop_cols = [\"res_units\", \"com_units\", \"rc_units\", \"structure_class\"]\n",
        "df.drop(columns=drop_cols, inplace=True)"
      ]
    },
    {
      "cell_type": "code",
      "execution_count": 9,
      "metadata": {
        "colab": {
          "base_uri": "https://localhost:8080/"
        },
        "id": "3ajwIhVPze2K",
        "outputId": "58fc4547-d2fb-476f-aa6e-295637d662d9"
      },
      "outputs": [
        {
          "output_type": "stream",
          "name": "stderr",
          "text": [
            "<ipython-input-9-e54b79a643c9>:12: FutureWarning: A value is trying to be set on a copy of a DataFrame or Series through chained assignment using an inplace method.\n",
            "The behavior will change in pandas 3.0. This inplace method will never work because the intermediate object on which we are setting values always behaves as a copy.\n",
            "\n",
            "For example, when doing 'df[col].method(value, inplace=True)', try using 'df.method({col: value}, inplace=True)' or df[col] = df[col].method(value) instead, to perform the operation inplace on the original object.\n",
            "\n",
            "\n",
            "  df['property_type'].fillna(\"Other\", inplace=True)\n"
          ]
        }
      ],
      "source": [
        "# Property classification\n",
        "df['property_type'] = ''\n",
        "residential = [\"R1\", \"R2\", \"R3\", \"R4\", \"A\", \"CD\", \"CM\", \"RL\"]\n",
        "commercial = [\"CC\", \"C\", \"CL\"]\n",
        "industrial = [\"I\"]\n",
        "mixed_use = [\"RC\"]\n",
        "\n",
        "df.loc[df[\"lu\"].isin(residential), \"property_type\"] = \"Residential\"\n",
        "df.loc[df[\"lu\"].isin(commercial), \"property_type\"] = \"Commercial\"\n",
        "df.loc[df[\"lu\"].isin(industrial), \"property_type\"] = \"Industrial\"\n",
        "df.loc[df[\"lu\"].isin(mixed_use), \"property_type\"] = \"Mixed-Use\"\n",
        "df['property_type'].fillna(\"Other\", inplace=True)"
      ]
    },
    {
      "cell_type": "code",
      "execution_count": 10,
      "metadata": {
        "id": "JPXukt1gze2K"
      },
      "outputs": [],
      "source": [
        "# Impute missing values based on property type\n",
        "res_cols = [\"bed_rms\", \"full_bth\", \"hlf_bth\", \"kitchens\", \"tt_rms\", \"living_area\", \"gross_area\", \"yr_built\"]\n",
        "for col in res_cols:\n",
        "    df.loc[df[\"property_type\"] == \"Residential\", col] = df.loc[df[\"property_type\"] == \"Residential\", col].fillna(df[col].median())\n",
        "\n",
        "df.loc[df[\"property_type\"] != \"Residential\", res_cols] = np.nan"
      ]
    },
    {
      "cell_type": "code",
      "execution_count": 11,
      "metadata": {
        "colab": {
          "base_uri": "https://localhost:8080/"
        },
        "id": "BN-0491lze2K",
        "outputId": "e86604f1-2d8a-4a42-acf9-9a8b9a824631"
      },
      "outputs": [
        {
          "output_type": "stream",
          "name": "stderr",
          "text": [
            "<ipython-input-11-022ee220dad6>:4: FutureWarning: A value is trying to be set on a copy of a DataFrame or Series through chained assignment using an inplace method.\n",
            "The behavior will change in pandas 3.0. This inplace method will never work because the intermediate object on which we are setting values always behaves as a copy.\n",
            "\n",
            "For example, when doing 'df[col].method(value, inplace=True)', try using 'df.method({col: value}, inplace=True)' or df[col] = df[col].method(value) instead, to perform the operation inplace on the original object.\n",
            "\n",
            "\n",
            "  df[col].fillna(df[col].mode()[0], inplace=True)\n"
          ]
        }
      ],
      "source": [
        "# Fill categorical missing values\n",
        "categorical_cols = [\"bldg_type\", \"heat_type\", \"ac_type\", \"prop_view\"]\n",
        "for col in categorical_cols:\n",
        "    df[col].fillna(df[col].mode()[0], inplace=True)"
      ]
    },
    {
      "cell_type": "code",
      "execution_count": 12,
      "metadata": {
        "id": "ifWGp9Pvze2K"
      },
      "outputs": [],
      "source": [
        "# Feature Engineering\n",
        "df[\"value_per_sqft\"] = df[\"total_value\"] / df[\"land_sf\"]"
      ]
    },
    {
      "cell_type": "code",
      "execution_count": 13,
      "metadata": {
        "id": "-IG64HXeze2K"
      },
      "outputs": [],
      "source": [
        "# Drop rows with missing key values before plotting\n",
        "df_clean = df.dropna(subset=[\"yr_built\", \"total_value\", \"bldg_value\", \"land_value\"])"
      ]
    },
    {
      "cell_type": "markdown",
      "metadata": {
        "id": "Aj7qvct4ze2K"
      },
      "source": [
        "### Hypothesis 1: Building Value vs. Land Value vs. Total Value (Scatter Plot)"
      ]
    },
    {
      "cell_type": "code",
      "execution_count": 14,
      "metadata": {
        "id": "GNvqHqPpze2K"
      },
      "outputs": [],
      "source": [
        "# fig1 = go.Figure()\n",
        "# fig1.add_trace(go.Scatter(x=df_clean[\"bldg_value\"], y=df_clean[\"total_value\"], mode=\"markers\",\n",
        "#                           name=\"Building Value\", marker=dict(color=\"blue\", opacity=0.5)))\n",
        "# fig1.add_trace(go.Scatter(x=df_clean[\"land_value\"], y=df_clean[\"total_value\"], mode=\"markers\",\n",
        "#                           name=\"Land Value\", marker=dict(color=\"green\", opacity=0.5)))\n",
        "# fig1.update_layout(title=\"Building vs. Land Contribution to Total Property Value\",\n",
        "#                    xaxis_title=\"Value ($)\", yaxis_title=\"Total Property Value ($)\")\n",
        "# fig1.show()"
      ]
    },
    {
      "cell_type": "markdown",
      "metadata": {
        "id": "HkdT3uNFze2K"
      },
      "source": [
        "### Hypothesis 2: Property Age & Remodeling Impact on Value"
      ]
    },
    {
      "cell_type": "code",
      "execution_count": 15,
      "metadata": {
        "id": "3DAW3ykaze2K"
      },
      "outputs": [],
      "source": [
        "# fig2 = px.box(df_clean, x=\"property_type\", y=\"total_value\", color=df_clean[\"yr_built\"].astype(str),\n",
        "#               title=\"Property Value by Age and Remodel Status\",\n",
        "#               labels={\"property_type\": \"Property Type\", \"total_value\": \"Total Assessed Value ($)\", \"yr_built\": \"Year Built\"})\n",
        "\n",
        "# fig2.show()"
      ]
    },
    {
      "cell_type": "markdown",
      "metadata": {
        "id": "OvjScaw9ze2K"
      },
      "source": [
        "### Hypothesis 3: Residential Properties have a higher Value per SQFT as compared to Industrial or Commercial"
      ]
    },
    {
      "cell_type": "code",
      "execution_count": 16,
      "metadata": {
        "id": "XsdsGv3Uze2K"
      },
      "outputs": [],
      "source": [
        "# fig3 = go.Figure()\n",
        "# fig3.add_trace(go.Bar(x=df[\"property_type\"].unique(), y=df.groupby(\"property_type\")[\"total_value\"].mean(),\n",
        "#                       name=\"Total Value\", marker_color=\"blue\"))\n",
        "# fig3.add_trace(go.Bar(x=df[\"property_type\"].unique(), y=df.groupby(\"property_type\")[\"value_per_sqft\"].mean(),\n",
        "#                       name=\"Value per Sq Ft\", marker_color=\"orange\"))\n",
        "# fig3.update_layout(title=\"Commercial vs. Residential: Total Value vs. Value per Sq Ft\",\n",
        "#                    xaxis_title=\"Property Type\", yaxis_title=\"Value ($)\", barmode=\"group\")\n",
        "\n",
        "# fig3.show()"
      ]
    },
    {
      "cell_type": "code",
      "source": [
        "print(\"Missing Values\")\n",
        "print((((df.isna().sum()) * 100 ) / df.shape[0]).sort_values(ascending=False).head(30))"
      ],
      "metadata": {
        "colab": {
          "base_uri": "https://localhost:8080/"
        },
        "id": "iQpip3tjztpE",
        "outputId": "cfbdc83a-3b73-437d-d537-d0d856f039c5"
      },
      "execution_count": 17,
      "outputs": [
        {
          "output_type": "stream",
          "name": "stdout",
          "text": [
            "Missing Values\n",
            "kitchen_style3    92.457831\n",
            "kitchen_style2    82.853568\n",
            "mail_addressee    81.117415\n",
            "bthrm_style3      79.970589\n",
            "bdrm_cond         60.633663\n",
            "corner_unit       60.508006\n",
            "cd_floor          60.507457\n",
            "orientation       60.506360\n",
            "heat_system       60.366436\n",
            "unit_num          54.668518\n",
            "bthrm_style2      53.268182\n",
            "yr_remodel        52.416018\n",
            "cm_id             48.809276\n",
            "kitchen_type      27.191866\n",
            "kitchen_style1    27.188573\n",
            "bthrm_style1      27.188025\n",
            "fireplaces        27.180343\n",
            "int_wall          26.749597\n",
            "int_cond          26.747951\n",
            "num_parking       26.680458\n",
            "roof_structure    19.877416\n",
            "roof_cover        19.874123\n",
            "ext_cond          19.840651\n",
            "res_floor         18.542378\n",
            "tt_rms            18.274053\n",
            "bed_rms           18.274053\n",
            "full_bth          18.274053\n",
            "kitchens          18.274053\n",
            "yr_built          18.274053\n",
            "gross_area        18.274053\n",
            "dtype: float64\n"
          ]
        }
      ]
    },
    {
      "cell_type": "code",
      "source": [
        "df['kitchen_style3'] =df['kitchen_style3'].fillna('No Kitchen 3')\n",
        "df['kitchen_style2'] =df['kitchen_style2'].fillna('No Kitchen 2')\n",
        "df['bthrm_style3'] =df['bthrm_style3'].fillna('No Bathroom 3')\n",
        "df['bthrm_style2'] =df['bthrm_style2'].fillna('No Bathroom 2')"
      ],
      "metadata": {
        "id": "BpT-DaxQ2SS7"
      },
      "execution_count": 18,
      "outputs": []
    },
    {
      "cell_type": "code",
      "source": [
        "df = df.drop(columns=['mail_addressee', 'unit_num', 'cm_id', 'gis_id', 'corner_unit', 'cd_floor', 'orientation', 'mail_state', 'mail_zip_code', 'mail_city', 'mail_street_address'])"
      ],
      "metadata": {
        "id": "40iN4oJY29IF"
      },
      "execution_count": 19,
      "outputs": []
    },
    {
      "cell_type": "code",
      "source": [
        "df['bdrm_cond'] = df['bdrm_cond'].fillna('Not Specified')\n",
        "df['int_cond'] = df['int_cond'].fillna('Not Specified')\n",
        "df['ext_cond'] = df['ext_cond'].fillna('Not Specified')\n",
        "df['overall_cond'] = df['overall_cond'].fillna('Not Specified')\n",
        "df['heat_system'] =df['heat_system'].fillna('Not Specified')\n",
        "df['int_wall'] =df['int_wall'].fillna('Not Specified')"
      ],
      "metadata": {
        "id": "MPSmF4jp3cK8"
      },
      "execution_count": 20,
      "outputs": []
    },
    {
      "cell_type": "code",
      "source": [
        "df = df.dropna(subset=['land_sf', 'gross_area', 'living_area', 'num_parking', 'st_num', 'roof_structure', 'roof_cover', 'ext_fnished', 'res_floor'])"
      ],
      "metadata": {
        "id": "Ah3kdCcP35Iq"
      },
      "execution_count": 21,
      "outputs": []
    },
    {
      "cell_type": "code",
      "source": [
        "df['yr_remodel'] = df['yr_remodel'].fillna(-1)"
      ],
      "metadata": {
        "id": "IjTIqDRmBOyP"
      },
      "execution_count": 22,
      "outputs": []
    },
    {
      "cell_type": "code",
      "source": [
        "df['kitchen_type'] = df['kitchen_type'].fillna('Not Specified')\n",
        "df['kitchen_style1'] = df['kitchen_type'].fillna('No Kitchen 1')\n",
        "df['bthrm_style1'] = df['bthrm_style1'].fillna('No Bathroom 1')"
      ],
      "metadata": {
        "id": "BiS4cpfTEKFU"
      },
      "execution_count": 23,
      "outputs": []
    },
    {
      "cell_type": "code",
      "source": [
        "df['fireplaces'] = df['fireplaces'].fillna(0.0)\n"
      ],
      "metadata": {
        "id": "ztfvnAyIH6Jk"
      },
      "execution_count": 24,
      "outputs": []
    },
    {
      "cell_type": "markdown",
      "source": [
        "### 3. Model Building"
      ],
      "metadata": {
        "id": "kQZAxeJoIyja"
      }
    },
    {
      "cell_type": "code",
      "source": [
        "df['gross_tax'] = df['gross_tax'].astype(str).str.replace('$', '', regex=False)\n",
        "df['gross_tax'] = df['gross_tax'].str.replace(',', '', regex=False)\n",
        "df['gross_tax'] = df['gross_tax'].str.replace(' ', '', regex=False)\n",
        "df['gross_tax'] = pd.to_numeric(df['gross_tax'])"
      ],
      "metadata": {
        "id": "gL6oHwZvcDIl"
      },
      "execution_count": 25,
      "outputs": []
    },
    {
      "cell_type": "code",
      "source": [
        "from sklearn.model_selection import train_test_split\n",
        "from catboost import CatBoostRegressor, Pool\n"
      ],
      "metadata": {
        "id": "pHx3rGNUJE8t"
      },
      "execution_count": 26,
      "outputs": []
    },
    {
      "cell_type": "code",
      "source": [
        "categorical_cols = df.select_dtypes(include=['object']).columns.tolist()\n",
        "cat_features = [df.columns.get_loc(col) for col in categorical_cols]\n",
        "X = df.drop('total_value', axis=1)\n",
        "y = df['total_value']"
      ],
      "metadata": {
        "id": "sRadIgVhKlUS"
      },
      "execution_count": 27,
      "outputs": []
    },
    {
      "cell_type": "code",
      "source": [
        "X_train, X_test, y_train, y_test = train_test_split(X, y, test_size=0.2, random_state=42)"
      ],
      "metadata": {
        "id": "dLndJemPK2YQ"
      },
      "execution_count": 28,
      "outputs": []
    },
    {
      "cell_type": "code",
      "source": [
        "train_data = Pool(data=X_train, label=y_train, cat_features=cat_features)\n"
      ],
      "metadata": {
        "colab": {
          "base_uri": "https://localhost:8080/",
          "height": 811
        },
        "id": "OjNIhBpnK5dL",
        "outputId": "1406fc89-cb73-4b20-f33c-ea956a130c7f"
      },
      "execution_count": 29,
      "outputs": [
        {
          "output_type": "error",
          "ename": "CatBoostError",
          "evalue": "Bad value for num_feature[non_default_doc_idx=0,feature_idx=23]=\"G - Gable\": Cannot convert 'b'G - Gable'' to float",
          "traceback": [
            "\u001b[0;31m---------------------------------------------------------------------------\u001b[0m",
            "\u001b[0;31mTypeError\u001b[0m                                 Traceback (most recent call last)",
            "\u001b[0;32m_catboost.pyx\u001b[0m in \u001b[0;36m_catboost.get_float_feature\u001b[0;34m()\u001b[0m\n",
            "\u001b[0;32m_catboost.pyx\u001b[0m in \u001b[0;36m_catboost._FloatOrNan\u001b[0;34m()\u001b[0m\n",
            "\u001b[0;32m_catboost.pyx\u001b[0m in \u001b[0;36m_catboost._FloatOrNanFromString\u001b[0;34m()\u001b[0m\n",
            "\u001b[0;31mTypeError\u001b[0m: Cannot convert 'b'G - Gable'' to float",
            "\nDuring handling of the above exception, another exception occurred:\n",
            "\u001b[0;31mCatBoostError\u001b[0m                             Traceback (most recent call last)",
            "\u001b[0;32m<ipython-input-29-1ce777569f77>\u001b[0m in \u001b[0;36m<cell line: 0>\u001b[0;34m()\u001b[0m\n\u001b[0;32m----> 1\u001b[0;31m \u001b[0mtrain_data\u001b[0m \u001b[0;34m=\u001b[0m \u001b[0mPool\u001b[0m\u001b[0;34m(\u001b[0m\u001b[0mdata\u001b[0m\u001b[0;34m=\u001b[0m\u001b[0mX_train\u001b[0m\u001b[0;34m,\u001b[0m \u001b[0mlabel\u001b[0m\u001b[0;34m=\u001b[0m\u001b[0my_train\u001b[0m\u001b[0;34m,\u001b[0m \u001b[0mcat_features\u001b[0m\u001b[0;34m=\u001b[0m\u001b[0mcat_features\u001b[0m\u001b[0;34m)\u001b[0m\u001b[0;34m\u001b[0m\u001b[0;34m\u001b[0m\u001b[0m\n\u001b[0m",
            "\u001b[0;32m/usr/local/lib/python3.11/dist-packages/catboost/core.py\u001b[0m in \u001b[0;36m__init__\u001b[0;34m(self, data, label, cat_features, text_features, embedding_features, embedding_features_data, column_description, pairs, graph, delimiter, has_header, ignore_csv_quoting, weight, group_id, group_weight, subgroup_id, pairs_weight, baseline, timestamp, feature_names, feature_tags, thread_count, log_cout, log_cerr, data_can_be_none)\u001b[0m\n\u001b[1;32m    853\u001b[0m                         )\n\u001b[1;32m    854\u001b[0m \u001b[0;34m\u001b[0m\u001b[0m\n\u001b[0;32m--> 855\u001b[0;31m                     self._init(data, label, cat_features, text_features, embedding_features, embedding_features_data, pairs, graph, weight,\n\u001b[0m\u001b[1;32m    856\u001b[0m                                group_id, group_weight, subgroup_id, pairs_weight, baseline, timestamp, feature_names, feature_tags, thread_count)\n\u001b[1;32m    857\u001b[0m             \u001b[0;32melif\u001b[0m \u001b[0;32mnot\u001b[0m \u001b[0mdata_can_be_none\u001b[0m\u001b[0;34m:\u001b[0m\u001b[0;34m\u001b[0m\u001b[0;34m\u001b[0m\u001b[0m\n",
            "\u001b[0;32m/usr/local/lib/python3.11/dist-packages/catboost/core.py\u001b[0m in \u001b[0;36m_init\u001b[0;34m(self, data, label, cat_features, text_features, embedding_features, embedding_features_data, pairs, graph, weight, group_id, group_weight, subgroup_id, pairs_weight, baseline, timestamp, feature_names, feature_tags, thread_count)\u001b[0m\n\u001b[1;32m   1489\u001b[0m         \u001b[0;32mif\u001b[0m \u001b[0mfeature_tags\u001b[0m \u001b[0;32mis\u001b[0m \u001b[0;32mnot\u001b[0m \u001b[0;32mNone\u001b[0m\u001b[0;34m:\u001b[0m\u001b[0;34m\u001b[0m\u001b[0;34m\u001b[0m\u001b[0m\n\u001b[1;32m   1490\u001b[0m             \u001b[0mfeature_tags\u001b[0m \u001b[0;34m=\u001b[0m \u001b[0mself\u001b[0m\u001b[0;34m.\u001b[0m\u001b[0m_check_transform_tags\u001b[0m\u001b[0;34m(\u001b[0m\u001b[0mfeature_tags\u001b[0m\u001b[0;34m,\u001b[0m \u001b[0mfeature_names\u001b[0m\u001b[0;34m)\u001b[0m\u001b[0;34m\u001b[0m\u001b[0;34m\u001b[0m\u001b[0m\n\u001b[0;32m-> 1491\u001b[0;31m         self._init_pool(data, label, cat_features, text_features, embedding_features, embedding_features_data, pairs, graph, weight,\n\u001b[0m\u001b[1;32m   1492\u001b[0m                         group_id, group_weight, subgroup_id, pairs_weight, baseline, timestamp, feature_names, feature_tags, thread_count)\n\u001b[1;32m   1493\u001b[0m \u001b[0;34m\u001b[0m\u001b[0m\n",
            "\u001b[0;32m_catboost.pyx\u001b[0m in \u001b[0;36m_catboost._PoolBase._init_pool\u001b[0;34m()\u001b[0m\n",
            "\u001b[0;32m_catboost.pyx\u001b[0m in \u001b[0;36m_catboost._PoolBase._init_pool\u001b[0;34m()\u001b[0m\n",
            "\u001b[0;32m_catboost.pyx\u001b[0m in \u001b[0;36m_catboost._PoolBase._init_features_order_layout_pool\u001b[0;34m()\u001b[0m\n",
            "\u001b[0;32m_catboost.pyx\u001b[0m in \u001b[0;36m_catboost._set_features_order_data_pd_data_frame\u001b[0;34m()\u001b[0m\n",
            "\u001b[0;32m_catboost.pyx\u001b[0m in \u001b[0;36m_catboost.create_num_factor_data\u001b[0;34m()\u001b[0m\n",
            "\u001b[0;32m_catboost.pyx\u001b[0m in \u001b[0;36m_catboost.get_float_feature\u001b[0;34m()\u001b[0m\n",
            "\u001b[0;31mCatBoostError\u001b[0m: Bad value for num_feature[non_default_doc_idx=0,feature_idx=23]=\"G - Gable\": Cannot convert 'b'G - Gable'' to float"
          ]
        }
      ]
    },
    {
      "cell_type": "code",
      "source": [
        "y_pred = model.predict(X_test)"
      ],
      "metadata": {
        "id": "PHweL-8Gb02f"
      },
      "execution_count": null,
      "outputs": []
    },
    {
      "cell_type": "code",
      "source": [
        "from sklearn.metrics import mean_squared_error, r2_score\n",
        "mse = mean_squared_error(y_test, y_pred)\n",
        "r2 = r2_score(y_test, y_pred)\n",
        "print(f\"Mean Squared Error: {mse}\")\n",
        "print(f\"R-squared: {r2}\")"
      ],
      "metadata": {
        "id": "UGJY19FXb28s"
      },
      "execution_count": null,
      "outputs": []
    },
    {
      "cell_type": "code",
      "source": [
        "print(categorical_cols)"
      ],
      "metadata": {
        "id": "bysXvye9tgse",
        "outputId": "2984ffc3-4172-41cd-988a-b0fe2cbed3ba",
        "colab": {
          "base_uri": "https://localhost:8080/"
        }
      },
      "execution_count": 32,
      "outputs": [
        {
          "output_type": "stream",
          "name": "stdout",
          "text": [
            "['st_name', 'city', 'lu', 'lu_desc', 'bldg_type', 'own_occ', 'owner', 'roof_structure', 'roof_cover', 'int_wall', 'ext_fnished', 'int_cond', 'ext_cond', 'overall_cond', 'bdrm_cond', 'bthrm_style1', 'bthrm_style2', 'bthrm_style3', 'kitchen_type', 'kitchen_style1', 'kitchen_style2', 'kitchen_style3', 'heat_type', 'heat_system', 'ac_type', 'prop_view', 'property_type']\n"
          ]
        }
      ]
    },
    {
      "cell_type": "code",
      "source": [
        "print(df.info())"
      ],
      "metadata": {
        "id": "GO7YHBSvuT7d",
        "outputId": "2f1224cb-f277-482f-a90b-cea9bfc6f8f4",
        "colab": {
          "base_uri": "https://localhost:8080/"
        }
      },
      "execution_count": 33,
      "outputs": [
        {
          "output_type": "stream",
          "name": "stdout",
          "text": [
            "<class 'pandas.core.frame.DataFrame'>\n",
            "Index: 132656 entries, 0 to 182239\n",
            "Data columns (total 52 columns):\n",
            " #   Column          Non-Null Count   Dtype  \n",
            "---  ------          --------------   -----  \n",
            " 0   pid             132656 non-null  int64  \n",
            " 1   st_num          132656 non-null  float64\n",
            " 2   st_name         132656 non-null  object \n",
            " 3   city            132656 non-null  object \n",
            " 4   zip_code        132656 non-null  float64\n",
            " 5   bldg_seq        132656 non-null  int64  \n",
            " 6   num_bldgs       132656 non-null  int64  \n",
            " 7   luc             132656 non-null  int64  \n",
            " 8   lu              132656 non-null  object \n",
            " 9   lu_desc         132656 non-null  object \n",
            " 10  bldg_type       132656 non-null  object \n",
            " 11  own_occ         132656 non-null  object \n",
            " 12  owner           132656 non-null  object \n",
            " 13  res_floor       132656 non-null  float64\n",
            " 14  land_sf         132656 non-null  float64\n",
            " 15  gross_area      132656 non-null  float64\n",
            " 16  living_area     132656 non-null  float64\n",
            " 17  land_value      132656 non-null  int64  \n",
            " 18  bldg_value      132656 non-null  int64  \n",
            " 19  sfyi_value      132656 non-null  int64  \n",
            " 20  total_value     132656 non-null  int64  \n",
            " 21  gross_tax       132656 non-null  float64\n",
            " 22  yr_built        132656 non-null  float64\n",
            " 23  yr_remodel      132656 non-null  float64\n",
            " 24  roof_structure  132656 non-null  object \n",
            " 25  roof_cover      132656 non-null  object \n",
            " 26  int_wall        132656 non-null  object \n",
            " 27  ext_fnished     132656 non-null  object \n",
            " 28  int_cond        132656 non-null  object \n",
            " 29  ext_cond        132656 non-null  object \n",
            " 30  overall_cond    132656 non-null  object \n",
            " 31  bed_rms         132656 non-null  float64\n",
            " 32  full_bth        132656 non-null  float64\n",
            " 33  hlf_bth         132656 non-null  float64\n",
            " 34  kitchens        132656 non-null  float64\n",
            " 35  tt_rms          132656 non-null  float64\n",
            " 36  bdrm_cond       132656 non-null  object \n",
            " 37  bthrm_style1    132656 non-null  object \n",
            " 38  bthrm_style2    132656 non-null  object \n",
            " 39  bthrm_style3    132656 non-null  object \n",
            " 40  kitchen_type    132656 non-null  object \n",
            " 41  kitchen_style1  132656 non-null  object \n",
            " 42  kitchen_style2  132656 non-null  object \n",
            " 43  kitchen_style3  132656 non-null  object \n",
            " 44  heat_type       132656 non-null  object \n",
            " 45  heat_system     132656 non-null  object \n",
            " 46  ac_type         132656 non-null  object \n",
            " 47  fireplaces      132656 non-null  float64\n",
            " 48  num_parking     132656 non-null  float64\n",
            " 49  prop_view       132656 non-null  object \n",
            " 50  property_type   132656 non-null  object \n",
            " 51  value_per_sqft  132656 non-null  float64\n",
            "dtypes: float64(17), int64(8), object(27)\n",
            "memory usage: 53.6+ MB\n",
            "None\n"
          ]
        }
      ]
    },
    {
      "cell_type": "code",
      "source": [
        "df_dummies = pd.get_dummies(df)"
      ],
      "metadata": {
        "id": "9CD0ACN0tLE_"
      },
      "execution_count": 30,
      "outputs": []
    },
    {
      "cell_type": "code",
      "source": [
        "X = df_dummies.drop('total_value', axis=1)\n",
        "y = df_dummies['total_value']"
      ],
      "metadata": {
        "id": "c_Z1BY43usgG"
      },
      "execution_count": 37,
      "outputs": []
    },
    {
      "cell_type": "code",
      "source": [
        "X_train, X_test, y_train, y_test = train_test_split(X, y, test_size=0.2, random_state=42)"
      ],
      "metadata": {
        "id": "oZubfSaXuuQ9"
      },
      "execution_count": 38,
      "outputs": []
    },
    {
      "cell_type": "code",
      "source": [
        "from sklearn.ensemble import RandomForestRegressor\n",
        "from sklearn.metrics import mean_squared_error, r2_score\n",
        "\n",
        "rf_regressor = RandomForestRegressor(n_estimators=100, random_state=42)\n",
        "rf_regressor.fit(X_train, y_train)\n",
        "\n",
        "y_pred = rf_regressor.predict(X_test)"
      ],
      "metadata": {
        "id": "FG6GnGONu2su"
      },
      "execution_count": null,
      "outputs": []
    }
  ],
  "metadata": {
    "kernelspec": {
      "display_name": "Python 3",
      "name": "python3"
    },
    "language_info": {
      "codemirror_mode": {
        "name": "ipython",
        "version": 3
      },
      "file_extension": ".py",
      "mimetype": "text/x-python",
      "name": "python",
      "nbconvert_exporter": "python",
      "pygments_lexer": "ipython3",
      "version": "3.9.21"
    },
    "colab": {
      "provenance": [],
      "gpuType": "V28"
    },
    "accelerator": "TPU"
  },
  "nbformat": 4,
  "nbformat_minor": 0
}