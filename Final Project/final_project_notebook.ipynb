{
  "cells": [
    {
      "cell_type": "markdown",
      "metadata": {
        "id": "_gOZj5vwze2H"
      },
      "source": [
        "# ALY6040 Final Project"
      ]
    },
    {
      "cell_type": "markdown",
      "metadata": {
        "id": "4EClgIrhze2I"
      },
      "source": [
        "## Exploratory Data Analysis"
      ]
    },
    {
      "cell_type": "code",
      "execution_count": 1,
      "metadata": {
        "id": "URVC9uaxze2I"
      },
      "outputs": [],
      "source": [
        "import pandas as pd\n",
        "import numpy as np\n",
        "from plotly import express as px\n",
        "from plotly import figure_factory as ff\n",
        "from plotly import graph_objects as go"
      ]
    },
    {
      "cell_type": "code",
      "execution_count": 2,
      "metadata": {
        "id": "x7YOdvxsze2I"
      },
      "outputs": [],
      "source": [
        "# Load the dataset\n",
        "df = pd.read_csv(\"final_project_dataset.csv\", low_memory=False)"
      ]
    },
    {
      "cell_type": "markdown",
      "metadata": {
        "id": "F2pj4DPqze2I"
      },
      "source": [
        "### 1. Initial Exploration"
      ]
    },
    {
      "cell_type": "code",
      "execution_count": 3,
      "metadata": {
        "colab": {
          "base_uri": "https://localhost:8080/"
        },
        "id": "ig0zfje-ze2J",
        "outputId": "1498f1ea-c708-4501-ee84-ffc00978b1ff"
      },
      "outputs": [
        {
          "output_type": "stream",
          "name": "stdout",
          "text": [
            "Dataset Info:\n",
            "<class 'pandas.core.frame.DataFrame'>\n",
            "RangeIndex: 182242 entries, 0 to 182241\n",
            "Data columns (total 65 columns):\n",
            " #   Column               Non-Null Count   Dtype  \n",
            "---  ------               --------------   -----  \n",
            " 0   PID                  182242 non-null  int64  \n",
            " 1   CM_ID                93291 non-null   float64\n",
            " 2   GIS_ID               182242 non-null  int64  \n",
            " 3   ST_NUM               172879 non-null  float64\n",
            " 4   ST_NAME              182242 non-null  object \n",
            " 5   UNIT_NUM             82613 non-null   object \n",
            " 6   CITY                 182239 non-null  object \n",
            " 7   ZIP_CODE             182239 non-null  float64\n",
            " 8   BLDG_SEQ             182242 non-null  int64  \n",
            " 9   NUM_BLDGS            182242 non-null  int64  \n",
            " 10  LUC                  182242 non-null  int64  \n",
            " 11  LU                   182242 non-null  object \n",
            " 12  LU_DESC              182242 non-null  object \n",
            " 13  BLDG_TYPE            179626 non-null  object \n",
            " 14  OWN_OCC              182242 non-null  object \n",
            " 15  OWNER                182242 non-null  object \n",
            " 16  MAIL_ADDRESSEE       34412 non-null   object \n",
            " 17  MAIL_STREET_ADDRESS  182238 non-null  object \n",
            " 18  MAIL_CITY            182231 non-null  object \n",
            " 19  MAIL_STATE           181923 non-null  object \n",
            " 20  MAIL_ZIP_CODE        182181 non-null  object \n",
            " 21  RES_FLOOR            148450 non-null  float64\n",
            " 22  CD_FLOOR             71972 non-null   float64\n",
            " 23  RES_UNITS            10768 non-null   float64\n",
            " 24  COM_UNITS            10768 non-null   float64\n",
            " 25  RC_UNITS             10768 non-null   float64\n",
            " 26  LAND_SF              174240 non-null  object \n",
            " 27  GROSS_AREA           148394 non-null  float64\n",
            " 28  LIVING_AREA          148101 non-null  float64\n",
            " 29  LAND_VALUE           182242 non-null  object \n",
            " 30  BLDG_VALUE           182242 non-null  object \n",
            " 31  SFYI_VALUE           182242 non-null  int64  \n",
            " 32  TOTAL_VALUE          182242 non-null  object \n",
            " 33   GROSS_TAX           182242 non-null  object \n",
            " 34  YR_BUILT             159456 non-null  float64\n",
            " 35  YR_REMODEL           86718 non-null   float64\n",
            " 36  STRUCTURE_CLASS      17406 non-null   object \n",
            " 37  ROOF_STRUCTURE       146017 non-null  object \n",
            " 38  ROOF_COVER           146023 non-null  object \n",
            " 39  INT_WALL             133493 non-null  object \n",
            " 40  EXT_FNISHED          159358 non-null  object \n",
            " 41  INT_COND             133496 non-null  object \n",
            " 42  EXT_COND             146084 non-null  object \n",
            " 43  OVERALL_COND         172655 non-null  object \n",
            " 44  BED_RMS              133477 non-null  float64\n",
            " 45  FULL_BTH             170598 non-null  float64\n",
            " 46  HLF_BTH              170733 non-null  float64\n",
            " 47  KITCHENS             170524 non-null  float64\n",
            " 48  TT_RMS               133413 non-null  float64\n",
            " 49  BDRM_COND            71742 non-null   object \n",
            " 50  BTHRM_STYLE1         132694 non-null  object \n",
            " 51  BTHRM_STYLE2         85165 non-null   object \n",
            " 52  BTHRM_STYLE3         36502 non-null   object \n",
            " 53  KITCHEN_TYPE         132687 non-null  object \n",
            " 54  KITCHEN_STYLE1       132693 non-null  object \n",
            " 55  KITCHEN_STYLE2       31248 non-null   object \n",
            " 56  KITCHEN_STYLE3       13745 non-null   object \n",
            " 57  HEAT_TYPE            134000 non-null  object \n",
            " 58  HEAT_SYSTEM          72229 non-null   object \n",
            " 59  AC_TYPE              133970 non-null  object \n",
            " 60  FIREPLACES           132708 non-null  float64\n",
            " 61  ORIENTATION          71974 non-null   object \n",
            " 62  NUM_PARKING          133619 non-null  float64\n",
            " 63  PROP_VIEW            135289 non-null  object \n",
            " 64  CORNER_UNIT          71971 non-null   object \n",
            "dtypes: float64(19), int64(6), object(40)\n",
            "memory usage: 90.4+ MB\n",
            "None\n"
          ]
        }
      ],
      "source": [
        "print(\"Dataset Info:\")\n",
        "print(df.info())"
      ]
    },
    {
      "cell_type": "code",
      "execution_count": 4,
      "metadata": {
        "colab": {
          "base_uri": "https://localhost:8080/"
        },
        "id": "4_NH35jXze2J",
        "outputId": "9f680917-7f24-4164-8ef3-1df8846f524f"
      },
      "outputs": [
        {
          "output_type": "stream",
          "name": "stdout",
          "text": [
            "Summary Statistics:\n",
            "                PID         CM_ID        GIS_ID         ST_NUM       ZIP_CODE  \\\n",
            "count  1.822420e+05  9.329100e+04  1.822420e+05  172879.000000  182239.000000   \n",
            "mean   1.140093e+09  9.175609e+08  1.140094e+09     226.431695    2129.867937   \n",
            "std    7.091114e+08  6.896463e+08  7.091123e+08     475.704566      30.721915   \n",
            "min    1.000010e+08  1.000180e+08  1.000010e+08       0.000000    2026.000000   \n",
            "25%    5.015880e+08  3.069060e+08  5.015882e+08      24.000000    2119.000000   \n",
            "50%    1.102618e+09  6.026424e+08  1.102618e+09      68.000000    2127.000000   \n",
            "75%    1.810508e+09  1.602331e+09  1.810508e+09     212.000000    2131.000000   \n",
            "max    2.205670e+09  2.205665e+09  2.205670e+09    5341.000000    2467.000000   \n",
            "\n",
            "       BLDG_SEQ      NUM_BLDGS            LUC      RES_FLOOR      CD_FLOOR  \\\n",
            "count  182242.0  182242.000000  182242.000000  148450.000000  71972.000000   \n",
            "mean        1.0       1.000077     202.581644       1.880354      3.520313   \n",
            "std         0.0       0.008764     266.131091       1.129042      5.256928   \n",
            "min         1.0       1.000000      13.000000       0.000000      0.000000   \n",
            "25%         1.0       1.000000     102.000000       1.000000      1.000000   \n",
            "50%         1.0       1.000000     102.000000       2.000000      2.000000   \n",
            "75%         1.0       1.000000     108.000000       2.500000      4.000000   \n",
            "max         1.0       2.000000     995.000000      62.000000     60.000000   \n",
            "\n",
            "       ...  SFYI_VALUE       YR_BUILT    YR_REMODEL        BED_RMS  \\\n",
            "count  ...    182242.0  159456.000000  86718.000000  133477.000000   \n",
            "mean   ...         0.0    1933.215665   2002.011647       3.148438   \n",
            "std    ...         0.0      63.981908     65.386476       2.102219   \n",
            "min    ...         0.0    1700.000000      0.000000       0.000000   \n",
            "25%    ...         0.0    1900.000000   1987.000000       2.000000   \n",
            "50%    ...         0.0    1920.000000   2005.000000       3.000000   \n",
            "75%    ...         0.0    1965.000000   2016.000000       4.000000   \n",
            "max    ...         0.0   20198.000000  20220.000000      21.000000   \n",
            "\n",
            "            FULL_BTH        HLF_BTH       KITCHENS         TT_RMS  \\\n",
            "count  170598.000000  170733.000000  170524.000000  133413.000000   \n",
            "mean        1.359758       0.221925       1.051881       6.940583   \n",
            "std         1.060568       0.460028       0.805374       4.009798   \n",
            "min         0.000000       0.000000       0.000000       1.000000   \n",
            "25%         1.000000       0.000000       1.000000       4.000000   \n",
            "50%         1.000000       0.000000       1.000000       6.000000   \n",
            "75%         2.000000       0.000000       1.000000       9.000000   \n",
            "max        21.000000       7.000000       5.000000      20.000000   \n",
            "\n",
            "          FIREPLACES    NUM_PARKING  \n",
            "count  132708.000000  133619.000000  \n",
            "mean        0.344162       1.328943  \n",
            "std         0.686004       2.411295  \n",
            "min         0.000000       0.000000  \n",
            "25%         0.000000       0.000000  \n",
            "50%         0.000000       1.000000  \n",
            "75%         1.000000       2.000000  \n",
            "max        12.000000     210.000000  \n",
            "\n",
            "[8 rows x 25 columns]\n"
          ]
        }
      ],
      "source": [
        "print(\"Summary Statistics:\")\n",
        "print(df.describe())"
      ]
    },
    {
      "cell_type": "code",
      "execution_count": 5,
      "metadata": {
        "colab": {
          "base_uri": "https://localhost:8080/"
        },
        "id": "tUEoeOU3ze2J",
        "outputId": "2918e3d3-d44c-45d7-816c-d21738133ab8"
      },
      "outputs": [
        {
          "output_type": "stream",
          "name": "stdout",
          "text": [
            "Missing Values\n",
            "COM_UNITS          94.091373\n",
            "RES_UNITS          94.091373\n",
            "RC_UNITS           94.091373\n",
            "KITCHEN_STYLE3     92.457831\n",
            "STRUCTURE_CLASS    90.448963\n",
            "KITCHEN_STYLE2     82.853568\n",
            "MAIL_ADDRESSEE     81.117415\n",
            "BTHRM_STYLE3       79.970589\n",
            "BDRM_COND          60.633663\n",
            "CORNER_UNIT        60.508006\n",
            "CD_FLOOR           60.507457\n",
            "ORIENTATION        60.506360\n",
            "HEAT_SYSTEM        60.366436\n",
            "UNIT_NUM           54.668518\n",
            "BTHRM_STYLE2       53.268182\n",
            "YR_REMODEL         52.416018\n",
            "CM_ID              48.809276\n",
            "KITCHEN_TYPE       27.191866\n",
            "KITCHEN_STYLE1     27.188573\n",
            "BTHRM_STYLE1       27.188025\n",
            "dtype: float64\n"
          ]
        }
      ],
      "source": [
        "print(\"Missing Values\")\n",
        "print((((df.isna().sum()) * 100 ) / df.shape[0]).sort_values(ascending=False).head(20))"
      ]
    },
    {
      "cell_type": "markdown",
      "metadata": {
        "id": "62tuXsH_ze2J"
      },
      "source": [
        "### 2. Handle Missing Values"
      ]
    },
    {
      "cell_type": "code",
      "execution_count": 6,
      "metadata": {
        "id": "fKsQEp5pze2J"
      },
      "outputs": [],
      "source": [
        "# Clean column names\n",
        "df.columns = df.columns.str.strip().str.lower()"
      ]
    },
    {
      "cell_type": "code",
      "execution_count": 7,
      "metadata": {
        "id": "6BE7YqLgze2K"
      },
      "outputs": [],
      "source": [
        "# Convert numeric columns\n",
        "numeric_columns = [\"land_sf\", \"land_value\", \"bldg_value\", \"total_value\", \"sfyi_value\", \"yr_built\", \"yr_remodel\"]\n",
        "for col in numeric_columns:\n",
        "    df[col] = df[col].astype(str).str.replace(r\"[^0-9.]\", \"\", regex=True)\n",
        "    df[col] = pd.to_numeric(df[col], errors=\"coerce\")"
      ]
    },
    {
      "cell_type": "code",
      "execution_count": 8,
      "metadata": {
        "id": "O00Moyz0ze2K"
      },
      "outputs": [],
      "source": [
        "# Drop high-missing columns\n",
        "drop_cols = [\"res_units\", \"com_units\", \"rc_units\", \"structure_class\"]\n",
        "df.drop(columns=drop_cols, inplace=True)"
      ]
    },
    {
      "cell_type": "code",
      "execution_count": 9,
      "metadata": {
        "colab": {
          "base_uri": "https://localhost:8080/"
        },
        "id": "3ajwIhVPze2K",
        "outputId": "525864ee-7f2f-4381-8f1c-1ce199c8bcdc"
      },
      "outputs": [
        {
          "output_type": "stream",
          "name": "stderr",
          "text": [
            "<ipython-input-9-e54b79a643c9>:12: FutureWarning: A value is trying to be set on a copy of a DataFrame or Series through chained assignment using an inplace method.\n",
            "The behavior will change in pandas 3.0. This inplace method will never work because the intermediate object on which we are setting values always behaves as a copy.\n",
            "\n",
            "For example, when doing 'df[col].method(value, inplace=True)', try using 'df.method({col: value}, inplace=True)' or df[col] = df[col].method(value) instead, to perform the operation inplace on the original object.\n",
            "\n",
            "\n",
            "  df['property_type'].fillna(\"Other\", inplace=True)\n"
          ]
        }
      ],
      "source": [
        "# Property classification\n",
        "df['property_type'] = ''\n",
        "residential = [\"R1\", \"R2\", \"R3\", \"R4\", \"A\", \"CD\", \"CM\", \"RL\"]\n",
        "commercial = [\"CC\", \"C\", \"CL\"]\n",
        "industrial = [\"I\"]\n",
        "mixed_use = [\"RC\"]\n",
        "\n",
        "df.loc[df[\"lu\"].isin(residential), \"property_type\"] = \"Residential\"\n",
        "df.loc[df[\"lu\"].isin(commercial), \"property_type\"] = \"Commercial\"\n",
        "df.loc[df[\"lu\"].isin(industrial), \"property_type\"] = \"Industrial\"\n",
        "df.loc[df[\"lu\"].isin(mixed_use), \"property_type\"] = \"Mixed-Use\"\n",
        "df['property_type'].fillna(\"Other\", inplace=True)"
      ]
    },
    {
      "cell_type": "code",
      "execution_count": 10,
      "metadata": {
        "id": "JPXukt1gze2K"
      },
      "outputs": [],
      "source": [
        "# Impute missing values based on property type\n",
        "res_cols = [\"bed_rms\", \"full_bth\", \"hlf_bth\", \"kitchens\", \"tt_rms\", \"living_area\", \"gross_area\", \"yr_built\"]\n",
        "for col in res_cols:\n",
        "    df.loc[df[\"property_type\"] == \"Residential\", col] = df.loc[df[\"property_type\"] == \"Residential\", col].fillna(df[col].median())\n",
        "\n",
        "df.loc[df[\"property_type\"] != \"Residential\", res_cols] = np.nan"
      ]
    },
    {
      "cell_type": "code",
      "execution_count": 11,
      "metadata": {
        "colab": {
          "base_uri": "https://localhost:8080/"
        },
        "id": "BN-0491lze2K",
        "outputId": "44861086-71fa-44d3-d657-3cc14135a824"
      },
      "outputs": [
        {
          "output_type": "stream",
          "name": "stderr",
          "text": [
            "<ipython-input-11-022ee220dad6>:4: FutureWarning: A value is trying to be set on a copy of a DataFrame or Series through chained assignment using an inplace method.\n",
            "The behavior will change in pandas 3.0. This inplace method will never work because the intermediate object on which we are setting values always behaves as a copy.\n",
            "\n",
            "For example, when doing 'df[col].method(value, inplace=True)', try using 'df.method({col: value}, inplace=True)' or df[col] = df[col].method(value) instead, to perform the operation inplace on the original object.\n",
            "\n",
            "\n",
            "  df[col].fillna(df[col].mode()[0], inplace=True)\n"
          ]
        }
      ],
      "source": [
        "# Fill categorical missing values\n",
        "categorical_cols = [\"bldg_type\", \"heat_type\", \"ac_type\", \"prop_view\"]\n",
        "for col in categorical_cols:\n",
        "    df[col].fillna(df[col].mode()[0], inplace=True)"
      ]
    },
    {
      "cell_type": "code",
      "execution_count": 12,
      "metadata": {
        "id": "ifWGp9Pvze2K"
      },
      "outputs": [],
      "source": [
        "# Feature Engineering\n",
        "df[\"value_per_sqft\"] = df[\"total_value\"] / df[\"land_sf\"]"
      ]
    },
    {
      "cell_type": "code",
      "execution_count": 13,
      "metadata": {
        "id": "-IG64HXeze2K"
      },
      "outputs": [],
      "source": [
        "# Drop rows with missing key values before plotting\n",
        "df_clean = df.dropna(subset=[\"yr_built\", \"total_value\", \"bldg_value\", \"land_value\"])"
      ]
    },
    {
      "cell_type": "markdown",
      "metadata": {
        "id": "Aj7qvct4ze2K"
      },
      "source": [
        "### Hypothesis 1: Building Value vs. Land Value vs. Total Value (Scatter Plot)"
      ]
    },
    {
      "cell_type": "code",
      "execution_count": 14,
      "metadata": {
        "id": "GNvqHqPpze2K"
      },
      "outputs": [],
      "source": [
        "# fig1 = go.Figure()\n",
        "# fig1.add_trace(go.Scatter(x=df_clean[\"bldg_value\"], y=df_clean[\"total_value\"], mode=\"markers\",\n",
        "#                           name=\"Building Value\", marker=dict(color=\"blue\", opacity=0.5)))\n",
        "# fig1.add_trace(go.Scatter(x=df_clean[\"land_value\"], y=df_clean[\"total_value\"], mode=\"markers\",\n",
        "#                           name=\"Land Value\", marker=dict(color=\"green\", opacity=0.5)))\n",
        "# fig1.update_layout(title=\"Building vs. Land Contribution to Total Property Value\",\n",
        "#                    xaxis_title=\"Value ($)\", yaxis_title=\"Total Property Value ($)\")\n",
        "# fig1.show()"
      ]
    },
    {
      "cell_type": "markdown",
      "metadata": {
        "id": "HkdT3uNFze2K"
      },
      "source": [
        "### Hypothesis 2: Property Age & Remodeling Impact on Value"
      ]
    },
    {
      "cell_type": "code",
      "execution_count": 15,
      "metadata": {
        "id": "3DAW3ykaze2K"
      },
      "outputs": [],
      "source": [
        "# fig2 = px.box(df_clean, x=\"property_type\", y=\"total_value\", color=df_clean[\"yr_built\"].astype(str),\n",
        "#               title=\"Property Value by Age and Remodel Status\",\n",
        "#               labels={\"property_type\": \"Property Type\", \"total_value\": \"Total Assessed Value ($)\", \"yr_built\": \"Year Built\"})\n",
        "\n",
        "# fig2.show()"
      ]
    },
    {
      "cell_type": "markdown",
      "metadata": {
        "id": "OvjScaw9ze2K"
      },
      "source": [
        "### Hypothesis 3: Residential Properties have a higher Value per SQFT as compared to Industrial or Commercial"
      ]
    },
    {
      "cell_type": "code",
      "execution_count": 16,
      "metadata": {
        "id": "XsdsGv3Uze2K"
      },
      "outputs": [],
      "source": [
        "# fig3 = go.Figure()\n",
        "# fig3.add_trace(go.Bar(x=df[\"property_type\"].unique(), y=df.groupby(\"property_type\")[\"total_value\"].mean(),\n",
        "#                       name=\"Total Value\", marker_color=\"blue\"))\n",
        "# fig3.add_trace(go.Bar(x=df[\"property_type\"].unique(), y=df.groupby(\"property_type\")[\"value_per_sqft\"].mean(),\n",
        "#                       name=\"Value per Sq Ft\", marker_color=\"orange\"))\n",
        "# fig3.update_layout(title=\"Commercial vs. Residential: Total Value vs. Value per Sq Ft\",\n",
        "#                    xaxis_title=\"Property Type\", yaxis_title=\"Value ($)\", barmode=\"group\")\n",
        "\n",
        "# fig3.show()"
      ]
    },
    {
      "cell_type": "code",
      "source": [
        "print(\"Missing Values\")\n",
        "print((((df.isna().sum()) * 100 ) / df.shape[0]).sort_values(ascending=False).head(30))"
      ],
      "metadata": {
        "colab": {
          "base_uri": "https://localhost:8080/"
        },
        "id": "iQpip3tjztpE",
        "outputId": "672ddc6a-875e-4a5d-afb2-d0f6d814b6ad"
      },
      "execution_count": 17,
      "outputs": [
        {
          "output_type": "stream",
          "name": "stdout",
          "text": [
            "Missing Values\n",
            "kitchen_style3    92.457831\n",
            "kitchen_style2    82.853568\n",
            "mail_addressee    81.117415\n",
            "bthrm_style3      79.970589\n",
            "bdrm_cond         60.633663\n",
            "corner_unit       60.508006\n",
            "cd_floor          60.507457\n",
            "orientation       60.506360\n",
            "heat_system       60.366436\n",
            "unit_num          54.668518\n",
            "bthrm_style2      53.268182\n",
            "yr_remodel        52.416018\n",
            "cm_id             48.809276\n",
            "kitchen_type      27.191866\n",
            "kitchen_style1    27.188573\n",
            "bthrm_style1      27.188025\n",
            "fireplaces        27.180343\n",
            "int_wall          26.749597\n",
            "int_cond          26.747951\n",
            "num_parking       26.680458\n",
            "roof_structure    19.877416\n",
            "roof_cover        19.874123\n",
            "ext_cond          19.840651\n",
            "res_floor         18.542378\n",
            "tt_rms            18.274053\n",
            "bed_rms           18.274053\n",
            "full_bth          18.274053\n",
            "kitchens          18.274053\n",
            "yr_built          18.274053\n",
            "gross_area        18.274053\n",
            "dtype: float64\n"
          ]
        }
      ]
    },
    {
      "cell_type": "code",
      "source": [
        "df['kitchen_style3'] =df['kitchen_style3'].fillna('No Kitchen 3')\n",
        "df['kitchen_style2'] =df['kitchen_style2'].fillna('No Kitchen 2')\n",
        "df['bthrm_style3'] =df['bthrm_style3'].fillna('No Bathroom 3')\n",
        "df['bthrm_style2'] =df['bthrm_style2'].fillna('No Bathroom 2')"
      ],
      "metadata": {
        "id": "BpT-DaxQ2SS7"
      },
      "execution_count": 18,
      "outputs": []
    },
    {
      "cell_type": "code",
      "source": [
        "df = df.drop(columns=['mail_addressee', 'unit_num', 'cm_id', 'gis_id', 'corner_unit', 'cd_floor', 'orientation', 'mail_state', 'mail_zip_code', 'mail_city', 'mail_street_address'])"
      ],
      "metadata": {
        "id": "40iN4oJY29IF"
      },
      "execution_count": 19,
      "outputs": []
    },
    {
      "cell_type": "code",
      "source": [
        "df['bdrm_cond'] = df['bdrm_cond'].fillna('Not Specified')\n",
        "df['int_cond'] = df['int_cond'].fillna('Not Specified')\n",
        "df['ext_cond'] = df['ext_cond'].fillna('Not Specified')\n",
        "df['overall_cond'] = df['overall_cond'].fillna('Not Specified')\n",
        "df['heat_system'] =df['heat_system'].fillna('Not Specified')\n",
        "df['int_wall'] =df['int_wall'].fillna('Not Specified')"
      ],
      "metadata": {
        "id": "MPSmF4jp3cK8"
      },
      "execution_count": 20,
      "outputs": []
    },
    {
      "cell_type": "code",
      "source": [
        "df = df.dropna(subset=['land_sf', 'gross_area', 'living_area', 'num_parking', 'st_num', 'roof_structure', 'roof_cover', 'ext_fnished', 'res_floor'])"
      ],
      "metadata": {
        "id": "Ah3kdCcP35Iq"
      },
      "execution_count": 21,
      "outputs": []
    },
    {
      "cell_type": "code",
      "source": [
        "df['yr_remodel'] = df['yr_remodel'].fillna(-1)"
      ],
      "metadata": {
        "id": "IjTIqDRmBOyP"
      },
      "execution_count": 22,
      "outputs": []
    },
    {
      "cell_type": "code",
      "source": [
        "df['kitchen_type'] = df['kitchen_type'].fillna('Not Specified')\n",
        "df['kitchen_style1'] = df['kitchen_type'].fillna('No Kitchen 1')\n",
        "df['bthrm_style1'] = df['bthrm_style1'].fillna('No Bathroom 1')"
      ],
      "metadata": {
        "id": "BiS4cpfTEKFU"
      },
      "execution_count": 23,
      "outputs": []
    },
    {
      "cell_type": "code",
      "source": [
        "df['fireplaces'] = df['fireplaces'].fillna(0.0)\n"
      ],
      "metadata": {
        "id": "ztfvnAyIH6Jk"
      },
      "execution_count": 24,
      "outputs": []
    },
    {
      "cell_type": "markdown",
      "source": [
        "### 3. Model Building"
      ],
      "metadata": {
        "id": "kQZAxeJoIyja"
      }
    },
    {
      "cell_type": "code",
      "source": [
        "df['gross_tax'] = df['gross_tax'].astype(str).str.replace('$', '', regex=False)\n",
        "df['gross_tax'] = df['gross_tax'].str.replace(',', '', regex=False)\n",
        "df['gross_tax'] = df['gross_tax'].str.replace(' ', '', regex=False)\n",
        "df['gross_tax'] = pd.to_numeric(df['gross_tax'])"
      ],
      "metadata": {
        "id": "gL6oHwZvcDIl"
      },
      "execution_count": 25,
      "outputs": []
    },
    {
      "cell_type": "code",
      "source": [
        "from sklearn.model_selection import train_test_split"
      ],
      "metadata": {
        "id": "pHx3rGNUJE8t"
      },
      "execution_count": 26,
      "outputs": []
    },
    {
      "cell_type": "code",
      "source": [
        "categorical_cols = df.select_dtypes(include=['object']).columns.tolist()\n",
        "cat_features = [df.columns.get_loc(col) for col in categorical_cols]\n",
        "X = df.drop('total_value', axis=1)\n",
        "y = df['total_value']"
      ],
      "metadata": {
        "id": "sRadIgVhKlUS"
      },
      "execution_count": 27,
      "outputs": []
    },
    {
      "cell_type": "code",
      "source": [
        "X_train, X_test, y_train, y_test = train_test_split(X, y, test_size=0.2, random_state=42)"
      ],
      "metadata": {
        "id": "dLndJemPK2YQ"
      },
      "execution_count": 28,
      "outputs": []
    },
    {
      "cell_type": "code",
      "source": [
        "df = df.drop(columns=['owner', 'st_name', 'st_num', 'lu_desc', 'pid', 'bldg_seq'])"
      ],
      "metadata": {
        "id": "D7hyEZn3J-bS"
      },
      "execution_count": 36,
      "outputs": []
    },
    {
      "cell_type": "code",
      "source": [
        "df_dummies = pd.get_dummies(df)"
      ],
      "metadata": {
        "id": "9CD0ACN0tLE_"
      },
      "execution_count": 37,
      "outputs": []
    },
    {
      "cell_type": "code",
      "source": [
        "X = df_dummies.drop('total_value', axis=1)\n",
        "y = df_dummies['total_value']"
      ],
      "metadata": {
        "id": "c_Z1BY43usgG"
      },
      "execution_count": 38,
      "outputs": []
    },
    {
      "cell_type": "code",
      "source": [
        "X_train, X_test, y_train, y_test = train_test_split(X, y, test_size=0.2, random_state=42)"
      ],
      "metadata": {
        "id": "oZubfSaXuuQ9"
      },
      "execution_count": 39,
      "outputs": []
    },
    {
      "cell_type": "code",
      "source": [
        "from sklearn.ensemble import RandomForestRegressor\n",
        "from sklearn.metrics import mean_squared_error, r2_score\n",
        "\n",
        "rf_regressor = RandomForestRegressor(n_estimators=100, random_state=42)\n",
        "rf_regressor.fit(X_train, y_train)\n",
        "\n",
        "y_pred = rf_regressor.predict(X_test)"
      ],
      "metadata": {
        "id": "FG6GnGONu2su"
      },
      "execution_count": 46,
      "outputs": []
    },
    {
      "cell_type": "code",
      "source": [
        "mse = mean_squared_error(y_test, y_pred)\n",
        "r2 = r2_score(y_test, y_pred)\n",
        "print(f\"Mean Squared Error: {mse}\")\n",
        "print(f\"R-squared: {r2}\")"
      ],
      "metadata": {
        "id": "LdLBPsa0XOWl",
        "outputId": "e235e8d6-b20b-4116-ea8c-14703b901b95",
        "colab": {
          "base_uri": "https://localhost:8080/"
        }
      },
      "execution_count": 47,
      "outputs": [
        {
          "output_type": "stream",
          "name": "stdout",
          "text": [
            "Mean Squared Error: 2139990414.2754748\n",
            "R-squared: 0.997012767061803\n"
          ]
        }
      ]
    },
    {
      "cell_type": "code",
      "source": [
        "feature_importances = rf_regressor.feature_importances_ * 100\n",
        "feature_importance_df = pd.DataFrame({\n",
        "       'Feature': X_train.columns,\n",
        "       'Importance': feature_importances\n",
        "   })\n",
        "feature_importance_df = feature_importance_df.sort_values(by='Importance', ascending=False)"
      ],
      "metadata": {
        "id": "85WhLQz6X2Ka"
      },
      "execution_count": 54,
      "outputs": []
    },
    {
      "cell_type": "code",
      "source": [
        "feature_importance_df\n",
        "fig = px.bar(\n",
        "    data_frame=feature_importance_df.head(10),\n",
        "    x = 'Feature',\n",
        "    y = 'Importance'\n",
        ")\n",
        "fig.show()"
      ],
      "metadata": {
        "id": "rHacFru1alx9",
        "outputId": "aad9a096-d37a-47e1-983e-b9cd208ec608",
        "colab": {
          "base_uri": "https://localhost:8080/",
          "height": 542
        }
      },
      "execution_count": 59,
      "outputs": [
        {
          "output_type": "display_data",
          "data": {
            "text/html": [
              "<html>\n",
              "<head><meta charset=\"utf-8\" /></head>\n",
              "<body>\n",
              "    <div>            <script src=\"https://cdnjs.cloudflare.com/ajax/libs/mathjax/2.7.5/MathJax.js?config=TeX-AMS-MML_SVG\"></script><script type=\"text/javascript\">if (window.MathJax && window.MathJax.Hub && window.MathJax.Hub.Config) {window.MathJax.Hub.Config({SVG: {font: \"STIX-Web\"}});}</script>                <script type=\"text/javascript\">window.PlotlyConfig = {MathJaxConfig: 'local'};</script>\n",
              "        <script charset=\"utf-8\" src=\"https://cdn.plot.ly/plotly-2.35.2.min.js\"></script>                <div id=\"66d54b69-d139-4e22-8830-21f9354359af\" class=\"plotly-graph-div\" style=\"height:525px; width:100%;\"></div>            <script type=\"text/javascript\">                                    window.PLOTLYENV=window.PLOTLYENV || {};                                    if (document.getElementById(\"66d54b69-d139-4e22-8830-21f9354359af\")) {                    Plotly.newPlot(                        \"66d54b69-d139-4e22-8830-21f9354359af\",                        [{\"alignmentgroup\":\"True\",\"hovertemplate\":\"Feature=%{x}\\u003cbr\\u003eImportance=%{y}\\u003cextra\\u003e\\u003c\\u002fextra\\u003e\",\"legendgroup\":\"\",\"marker\":{\"color\":\"#636efa\",\"pattern\":{\"shape\":\"\"}},\"name\":\"\",\"offsetgroup\":\"\",\"orientation\":\"v\",\"showlegend\":false,\"textposition\":\"auto\",\"x\":[\"gross_tax\",\"bldg_value\",\"roof_cover_R - Rubber Roof\",\"land_sf\",\"yr_remodel\",\"gross_area\",\"land_value\",\"roof_cover_O - Other\",\"living_area\",\"bdrm_cond_Not Specified\"],\"xaxis\":\"x\",\"y\":[99.38642311413871,0.43904162221880727,0.032403854736763806,0.02453025064996893,0.013503491992339063,0.01167386729747892,0.011547928198533083,0.010191773189185708,0.009740148439308635,0.0075833279226071495],\"yaxis\":\"y\",\"type\":\"bar\"}],                        {\"template\":{\"data\":{\"histogram2dcontour\":[{\"type\":\"histogram2dcontour\",\"colorbar\":{\"outlinewidth\":0,\"ticks\":\"\"},\"colorscale\":[[0.0,\"#0d0887\"],[0.1111111111111111,\"#46039f\"],[0.2222222222222222,\"#7201a8\"],[0.3333333333333333,\"#9c179e\"],[0.4444444444444444,\"#bd3786\"],[0.5555555555555556,\"#d8576b\"],[0.6666666666666666,\"#ed7953\"],[0.7777777777777778,\"#fb9f3a\"],[0.8888888888888888,\"#fdca26\"],[1.0,\"#f0f921\"]]}],\"choropleth\":[{\"type\":\"choropleth\",\"colorbar\":{\"outlinewidth\":0,\"ticks\":\"\"}}],\"histogram2d\":[{\"type\":\"histogram2d\",\"colorbar\":{\"outlinewidth\":0,\"ticks\":\"\"},\"colorscale\":[[0.0,\"#0d0887\"],[0.1111111111111111,\"#46039f\"],[0.2222222222222222,\"#7201a8\"],[0.3333333333333333,\"#9c179e\"],[0.4444444444444444,\"#bd3786\"],[0.5555555555555556,\"#d8576b\"],[0.6666666666666666,\"#ed7953\"],[0.7777777777777778,\"#fb9f3a\"],[0.8888888888888888,\"#fdca26\"],[1.0,\"#f0f921\"]]}],\"heatmap\":[{\"type\":\"heatmap\",\"colorbar\":{\"outlinewidth\":0,\"ticks\":\"\"},\"colorscale\":[[0.0,\"#0d0887\"],[0.1111111111111111,\"#46039f\"],[0.2222222222222222,\"#7201a8\"],[0.3333333333333333,\"#9c179e\"],[0.4444444444444444,\"#bd3786\"],[0.5555555555555556,\"#d8576b\"],[0.6666666666666666,\"#ed7953\"],[0.7777777777777778,\"#fb9f3a\"],[0.8888888888888888,\"#fdca26\"],[1.0,\"#f0f921\"]]}],\"heatmapgl\":[{\"type\":\"heatmapgl\",\"colorbar\":{\"outlinewidth\":0,\"ticks\":\"\"},\"colorscale\":[[0.0,\"#0d0887\"],[0.1111111111111111,\"#46039f\"],[0.2222222222222222,\"#7201a8\"],[0.3333333333333333,\"#9c179e\"],[0.4444444444444444,\"#bd3786\"],[0.5555555555555556,\"#d8576b\"],[0.6666666666666666,\"#ed7953\"],[0.7777777777777778,\"#fb9f3a\"],[0.8888888888888888,\"#fdca26\"],[1.0,\"#f0f921\"]]}],\"contourcarpet\":[{\"type\":\"contourcarpet\",\"colorbar\":{\"outlinewidth\":0,\"ticks\":\"\"}}],\"contour\":[{\"type\":\"contour\",\"colorbar\":{\"outlinewidth\":0,\"ticks\":\"\"},\"colorscale\":[[0.0,\"#0d0887\"],[0.1111111111111111,\"#46039f\"],[0.2222222222222222,\"#7201a8\"],[0.3333333333333333,\"#9c179e\"],[0.4444444444444444,\"#bd3786\"],[0.5555555555555556,\"#d8576b\"],[0.6666666666666666,\"#ed7953\"],[0.7777777777777778,\"#fb9f3a\"],[0.8888888888888888,\"#fdca26\"],[1.0,\"#f0f921\"]]}],\"surface\":[{\"type\":\"surface\",\"colorbar\":{\"outlinewidth\":0,\"ticks\":\"\"},\"colorscale\":[[0.0,\"#0d0887\"],[0.1111111111111111,\"#46039f\"],[0.2222222222222222,\"#7201a8\"],[0.3333333333333333,\"#9c179e\"],[0.4444444444444444,\"#bd3786\"],[0.5555555555555556,\"#d8576b\"],[0.6666666666666666,\"#ed7953\"],[0.7777777777777778,\"#fb9f3a\"],[0.8888888888888888,\"#fdca26\"],[1.0,\"#f0f921\"]]}],\"mesh3d\":[{\"type\":\"mesh3d\",\"colorbar\":{\"outlinewidth\":0,\"ticks\":\"\"}}],\"scatter\":[{\"fillpattern\":{\"fillmode\":\"overlay\",\"size\":10,\"solidity\":0.2},\"type\":\"scatter\"}],\"parcoords\":[{\"type\":\"parcoords\",\"line\":{\"colorbar\":{\"outlinewidth\":0,\"ticks\":\"\"}}}],\"scatterpolargl\":[{\"type\":\"scatterpolargl\",\"marker\":{\"colorbar\":{\"outlinewidth\":0,\"ticks\":\"\"}}}],\"bar\":[{\"error_x\":{\"color\":\"#2a3f5f\"},\"error_y\":{\"color\":\"#2a3f5f\"},\"marker\":{\"line\":{\"color\":\"#E5ECF6\",\"width\":0.5},\"pattern\":{\"fillmode\":\"overlay\",\"size\":10,\"solidity\":0.2}},\"type\":\"bar\"}],\"scattergeo\":[{\"type\":\"scattergeo\",\"marker\":{\"colorbar\":{\"outlinewidth\":0,\"ticks\":\"\"}}}],\"scatterpolar\":[{\"type\":\"scatterpolar\",\"marker\":{\"colorbar\":{\"outlinewidth\":0,\"ticks\":\"\"}}}],\"histogram\":[{\"marker\":{\"pattern\":{\"fillmode\":\"overlay\",\"size\":10,\"solidity\":0.2}},\"type\":\"histogram\"}],\"scattergl\":[{\"type\":\"scattergl\",\"marker\":{\"colorbar\":{\"outlinewidth\":0,\"ticks\":\"\"}}}],\"scatter3d\":[{\"type\":\"scatter3d\",\"line\":{\"colorbar\":{\"outlinewidth\":0,\"ticks\":\"\"}},\"marker\":{\"colorbar\":{\"outlinewidth\":0,\"ticks\":\"\"}}}],\"scattermapbox\":[{\"type\":\"scattermapbox\",\"marker\":{\"colorbar\":{\"outlinewidth\":0,\"ticks\":\"\"}}}],\"scatterternary\":[{\"type\":\"scatterternary\",\"marker\":{\"colorbar\":{\"outlinewidth\":0,\"ticks\":\"\"}}}],\"scattercarpet\":[{\"type\":\"scattercarpet\",\"marker\":{\"colorbar\":{\"outlinewidth\":0,\"ticks\":\"\"}}}],\"carpet\":[{\"aaxis\":{\"endlinecolor\":\"#2a3f5f\",\"gridcolor\":\"white\",\"linecolor\":\"white\",\"minorgridcolor\":\"white\",\"startlinecolor\":\"#2a3f5f\"},\"baxis\":{\"endlinecolor\":\"#2a3f5f\",\"gridcolor\":\"white\",\"linecolor\":\"white\",\"minorgridcolor\":\"white\",\"startlinecolor\":\"#2a3f5f\"},\"type\":\"carpet\"}],\"table\":[{\"cells\":{\"fill\":{\"color\":\"#EBF0F8\"},\"line\":{\"color\":\"white\"}},\"header\":{\"fill\":{\"color\":\"#C8D4E3\"},\"line\":{\"color\":\"white\"}},\"type\":\"table\"}],\"barpolar\":[{\"marker\":{\"line\":{\"color\":\"#E5ECF6\",\"width\":0.5},\"pattern\":{\"fillmode\":\"overlay\",\"size\":10,\"solidity\":0.2}},\"type\":\"barpolar\"}],\"pie\":[{\"automargin\":true,\"type\":\"pie\"}]},\"layout\":{\"autotypenumbers\":\"strict\",\"colorway\":[\"#636efa\",\"#EF553B\",\"#00cc96\",\"#ab63fa\",\"#FFA15A\",\"#19d3f3\",\"#FF6692\",\"#B6E880\",\"#FF97FF\",\"#FECB52\"],\"font\":{\"color\":\"#2a3f5f\"},\"hovermode\":\"closest\",\"hoverlabel\":{\"align\":\"left\"},\"paper_bgcolor\":\"white\",\"plot_bgcolor\":\"#E5ECF6\",\"polar\":{\"bgcolor\":\"#E5ECF6\",\"angularaxis\":{\"gridcolor\":\"white\",\"linecolor\":\"white\",\"ticks\":\"\"},\"radialaxis\":{\"gridcolor\":\"white\",\"linecolor\":\"white\",\"ticks\":\"\"}},\"ternary\":{\"bgcolor\":\"#E5ECF6\",\"aaxis\":{\"gridcolor\":\"white\",\"linecolor\":\"white\",\"ticks\":\"\"},\"baxis\":{\"gridcolor\":\"white\",\"linecolor\":\"white\",\"ticks\":\"\"},\"caxis\":{\"gridcolor\":\"white\",\"linecolor\":\"white\",\"ticks\":\"\"}},\"coloraxis\":{\"colorbar\":{\"outlinewidth\":0,\"ticks\":\"\"}},\"colorscale\":{\"sequential\":[[0.0,\"#0d0887\"],[0.1111111111111111,\"#46039f\"],[0.2222222222222222,\"#7201a8\"],[0.3333333333333333,\"#9c179e\"],[0.4444444444444444,\"#bd3786\"],[0.5555555555555556,\"#d8576b\"],[0.6666666666666666,\"#ed7953\"],[0.7777777777777778,\"#fb9f3a\"],[0.8888888888888888,\"#fdca26\"],[1.0,\"#f0f921\"]],\"sequentialminus\":[[0.0,\"#0d0887\"],[0.1111111111111111,\"#46039f\"],[0.2222222222222222,\"#7201a8\"],[0.3333333333333333,\"#9c179e\"],[0.4444444444444444,\"#bd3786\"],[0.5555555555555556,\"#d8576b\"],[0.6666666666666666,\"#ed7953\"],[0.7777777777777778,\"#fb9f3a\"],[0.8888888888888888,\"#fdca26\"],[1.0,\"#f0f921\"]],\"diverging\":[[0,\"#8e0152\"],[0.1,\"#c51b7d\"],[0.2,\"#de77ae\"],[0.3,\"#f1b6da\"],[0.4,\"#fde0ef\"],[0.5,\"#f7f7f7\"],[0.6,\"#e6f5d0\"],[0.7,\"#b8e186\"],[0.8,\"#7fbc41\"],[0.9,\"#4d9221\"],[1,\"#276419\"]]},\"xaxis\":{\"gridcolor\":\"white\",\"linecolor\":\"white\",\"ticks\":\"\",\"title\":{\"standoff\":15},\"zerolinecolor\":\"white\",\"automargin\":true,\"zerolinewidth\":2},\"yaxis\":{\"gridcolor\":\"white\",\"linecolor\":\"white\",\"ticks\":\"\",\"title\":{\"standoff\":15},\"zerolinecolor\":\"white\",\"automargin\":true,\"zerolinewidth\":2},\"scene\":{\"xaxis\":{\"backgroundcolor\":\"#E5ECF6\",\"gridcolor\":\"white\",\"linecolor\":\"white\",\"showbackground\":true,\"ticks\":\"\",\"zerolinecolor\":\"white\",\"gridwidth\":2},\"yaxis\":{\"backgroundcolor\":\"#E5ECF6\",\"gridcolor\":\"white\",\"linecolor\":\"white\",\"showbackground\":true,\"ticks\":\"\",\"zerolinecolor\":\"white\",\"gridwidth\":2},\"zaxis\":{\"backgroundcolor\":\"#E5ECF6\",\"gridcolor\":\"white\",\"linecolor\":\"white\",\"showbackground\":true,\"ticks\":\"\",\"zerolinecolor\":\"white\",\"gridwidth\":2}},\"shapedefaults\":{\"line\":{\"color\":\"#2a3f5f\"}},\"annotationdefaults\":{\"arrowcolor\":\"#2a3f5f\",\"arrowhead\":0,\"arrowwidth\":1},\"geo\":{\"bgcolor\":\"white\",\"landcolor\":\"#E5ECF6\",\"subunitcolor\":\"white\",\"showland\":true,\"showlakes\":true,\"lakecolor\":\"white\"},\"title\":{\"x\":0.05},\"mapbox\":{\"style\":\"light\"}}},\"xaxis\":{\"anchor\":\"y\",\"domain\":[0.0,1.0],\"title\":{\"text\":\"Feature\"}},\"yaxis\":{\"anchor\":\"x\",\"domain\":[0.0,1.0],\"title\":{\"text\":\"Importance\"}},\"legend\":{\"tracegroupgap\":0},\"margin\":{\"t\":60},\"barmode\":\"relative\"},                        {\"responsive\": true}                    ).then(function(){\n",
              "                            \n",
              "var gd = document.getElementById('66d54b69-d139-4e22-8830-21f9354359af');\n",
              "var x = new MutationObserver(function (mutations, observer) {{\n",
              "        var display = window.getComputedStyle(gd).display;\n",
              "        if (!display || display === 'none') {{\n",
              "            console.log([gd, 'removed!']);\n",
              "            Plotly.purge(gd);\n",
              "            observer.disconnect();\n",
              "        }}\n",
              "}});\n",
              "\n",
              "// Listen for the removal of the full notebook cells\n",
              "var notebookContainer = gd.closest('#notebook-container');\n",
              "if (notebookContainer) {{\n",
              "    x.observe(notebookContainer, {childList: true});\n",
              "}}\n",
              "\n",
              "// Listen for the clearing of the current output cell\n",
              "var outputEl = gd.closest('.output');\n",
              "if (outputEl) {{\n",
              "    x.observe(outputEl, {childList: true});\n",
              "}}\n",
              "\n",
              "                        })                };                            </script>        </div>\n",
              "</body>\n",
              "</html>"
            ]
          },
          "metadata": {}
        }
      ]
    },
    {
      "cell_type": "code",
      "source": [
        "from sklearn.linear_model import LinearRegression\n",
        "\n",
        "lr_model = LinearRegression()\n",
        "lr_model.fit(X_train, y_train)\n",
        "\n",
        "y_pred_lr = lr_model.predict(X_test)"
      ],
      "metadata": {
        "id": "mMzjHFHyfTs0"
      },
      "execution_count": 60,
      "outputs": []
    },
    {
      "cell_type": "code",
      "source": [
        "mse = mean_squared_error(y_test, y_pred)\n",
        "r2 = r2_score(y_test, y_pred)\n",
        "print(f\"Mean Squared Error: {mse}\")\n",
        "print(f\"R-squared: {r2}\")"
      ],
      "metadata": {
        "id": "v8Pb8C32gKSF",
        "outputId": "c36e641b-22dd-4d2e-ba15-998a77a12c21",
        "colab": {
          "base_uri": "https://localhost:8080/"
        }
      },
      "execution_count": 61,
      "outputs": [
        {
          "output_type": "stream",
          "name": "stdout",
          "text": [
            "Mean Squared Error: 2139990414.2754748\n",
            "R-squared: 0.997012767061803\n"
          ]
        }
      ]
    },
    {
      "cell_type": "code",
      "source": [
        "lr_model.coef_"
      ],
      "metadata": {
        "id": "_5OnZ-k9gvZC",
        "outputId": "090c5592-aceb-48ab-adac-b0d20f9e95b7",
        "colab": {
          "base_uri": "https://localhost:8080/"
        }
      },
      "execution_count": 65,
      "outputs": [
        {
          "output_type": "execute_result",
          "data": {
            "text/plain": [
              "array([ 1.12129261e-05, -3.23306133e-03, -1.57802498e-03, -1.21200646e-03,\n",
              "        3.01186921e-07,  9.68520310e-07,  6.06319642e-07,  3.17305043e-06,\n",
              "        3.17876039e-06, -2.70006240e-12,  9.17428276e+01, -7.30030670e-06,\n",
              "        7.53730262e-07,  1.53743791e-04, -1.10217344e-03, -2.15962108e-03,\n",
              "       -8.30087052e-05, -3.73403139e-05,  2.33436550e-04,  1.46985812e-04,\n",
              "        9.33886735e-06,  4.57168330e-03,  2.15871536e-03,  2.59261696e-03,\n",
              "       -3.10384879e-03,  6.31983072e-03, -8.79780885e-03,  2.04352201e-03,\n",
              "       -2.16667392e-03,  1.53771494e-03, -1.27556543e-03,  3.94190954e-03,\n",
              "       -1.99848442e-03, -1.16573418e-15, -5.45535973e-04, -4.66108594e-03,\n",
              "       -4.19767920e-03,  4.15140940e-03, -5.70719708e-04,  2.50401868e-02,\n",
              "       -7.11438073e-04, -1.64129432e-02, -6.08134643e-03, -5.44219661e-03,\n",
              "        3.60773743e-03, -2.51637145e-02, -7.04515627e-03,  1.24307204e-01,\n",
              "        4.64231857e-03,  6.10511771e-03,  5.72503800e-03, -7.67331403e-02,\n",
              "        4.41567019e-03,  7.30965895e-03, -3.44487960e-03, -5.91496609e-03,\n",
              "       -4.06058554e-03, -6.12719353e-03, -6.56527120e-03, -1.20568437e-02,\n",
              "       -7.70964283e-03,  1.64962838e-02, -6.67020328e-03, -6.23676034e-03,\n",
              "        5.37486552e-03,  5.38595869e-03, -1.27555527e-02,  4.77892790e-03,\n",
              "        5.45751618e-03, -3.11598743e-03, -1.55368358e-02,  6.54617943e-03,\n",
              "        2.59199444e-03,  3.19087723e-03, -3.19087723e-03,  1.74375830e-03,\n",
              "       -7.34148692e-04,  1.48149619e-04,  8.25795140e-04,  1.72189419e-03,\n",
              "       -2.16078681e-03, -1.54466174e-03,  8.24484986e-04, -6.98006597e-04,\n",
              "       -3.09495680e-03, -4.70258655e-04, -2.42084782e-04,  1.24356247e-03,\n",
              "        2.43725938e-03,  4.41981046e-03,  8.21621683e-03,  4.00431487e-03,\n",
              "       -1.66403422e-02,  2.01543701e-02,  4.30195082e-03, -2.09248987e-02,\n",
              "        3.01261774e-03, -1.10707419e-05,  1.78967675e-03,  1.08782894e-03,\n",
              "       -1.53613397e-03, -1.39450185e-02,  3.16829055e-03, -6.61846658e-03,\n",
              "        2.10611043e-03,  1.78908775e-03,  1.39550367e-03,  2.03651900e-04,\n",
              "        4.02649974e-03, -2.08214105e-04,  2.82352879e-03,  3.28906560e-04,\n",
              "        1.66600053e-03, -1.63904813e-02,  1.17802595e-02, -1.40074286e-03,\n",
              "        1.60095459e-03, -2.23630243e-03, -2.97227070e-04,  7.16664821e-04,\n",
              "        1.61665295e-03,  2.20262293e-03, -6.47443860e-04,  1.83073710e-03,\n",
              "       -4.94885002e-03,  4.62826820e-04,  5.96035895e-05, -1.32796238e-03,\n",
              "        2.36846582e-03, -1.13970354e-03, -1.30077670e-03,  3.05171813e-03,\n",
              "       -1.03637888e-03, -1.58559239e-03,  2.01073339e-03, -8.77913428e-03,\n",
              "       -6.29214820e-03, -6.62767703e-03,  2.86479243e-02, -6.94896476e-03,\n",
              "       -7.71312196e-04, -4.04603965e-05,  2.03317420e-03, -2.47411534e-03,\n",
              "        1.25271374e-03, -8.59545147e-04,  1.15180935e-03,  8.42341635e-04,\n",
              "       -1.24886468e-03,  1.14258841e-04, -1.32992714e-03,  9.32589938e-05,\n",
              "       -5.35797030e-04, -1.89173039e-04,  7.30418874e-04,  5.28355343e-03,\n",
              "       -3.19548523e-05, -7.77354117e-04, -1.30659607e-03, -7.27539737e-04,\n",
              "       -1.20888931e-03, -1.32992714e-03,  9.32589938e-05, -5.35797030e-04,\n",
              "       -1.89173039e-04,  7.30418874e-04,  5.28355343e-03, -3.19548523e-05,\n",
              "       -7.77354117e-04, -1.30659607e-03, -7.27539737e-04, -1.20888931e-03,\n",
              "        2.78968878e-05, -4.59695777e-04,  9.64184535e-04, -1.33375338e-03,\n",
              "        8.01367731e-04, -2.25442382e-03, -6.87322391e-04,  6.47093429e-04,\n",
              "        1.16729726e-03,  1.12735553e-03, -2.64773588e-03,  6.88794816e-04,\n",
              "        1.86359211e-03,  1.36017192e-03, -1.92286107e-03,  1.20873231e-04,\n",
              "        5.37164872e-04, -3.65982040e-03, -4.46158003e-04, -2.14455607e-03,\n",
              "       -1.39579917e-03,  9.03881042e-03, -1.39247678e-03,  2.24591400e-04,\n",
              "        1.14377288e-03, -1.36836428e-03,  1.26439207e-03,  5.38132644e-04,\n",
              "       -1.05937915e-03,  2.54886548e-03,  1.60581567e-03, -4.89782671e-03,\n",
              "        0.00000000e+00])"
            ]
          },
          "metadata": {},
          "execution_count": 65
        }
      ]
    }
  ],
  "metadata": {
    "kernelspec": {
      "display_name": "Python 3",
      "name": "python3"
    },
    "language_info": {
      "codemirror_mode": {
        "name": "ipython",
        "version": 3
      },
      "file_extension": ".py",
      "mimetype": "text/x-python",
      "name": "python",
      "nbconvert_exporter": "python",
      "pygments_lexer": "ipython3",
      "version": "3.9.21"
    },
    "colab": {
      "provenance": [],
      "gpuType": "V28"
    },
    "accelerator": "TPU"
  },
  "nbformat": 4,
  "nbformat_minor": 0
}